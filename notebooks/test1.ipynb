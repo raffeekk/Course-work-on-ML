{
  "cells": [
    {
      "cell_type": "markdown",
      "metadata": {
        "id": "view-in-github",
        "colab_type": "text"
      },
      "source": [
        "<a href=\"https://colab.research.google.com/github/raffeekk/Course-work-on-ML/blob/main/notebooks/test1.ipynb\" target=\"_parent\"><img src=\"https://colab.research.google.com/assets/colab-badge.svg\" alt=\"Open In Colab\"/></a>"
      ]
    },
    {
      "cell_type": "markdown",
      "metadata": {
        "id": "Ze_zAAI7Ts5d"
      },
      "source": [
        "# Курсовая работа по дисциплине \"Машинное обучение\"\n",
        "\n",
        "### Автор: Горбуненко Дмитрий Денисович.\n",
        "### Группа: КРНД22-ПМиИ-АД-о.\n",
        "### *ТЕМА*\n",
        ""
      ],
      "id": "Ze_zAAI7Ts5d"
    },
    {
      "cell_type": "code",
      "source": [
        "def read_data():\n",
        "    df_atm = pd.read_csv(\"https://raw.githubusercontent.com/raffeekk/Course-work-on-ML/refs/heads/main/data/Data_Fully_Refined.csv?token=GHSAT0AAAAAAC54IFSNGUWB2LOEFDK7D376Z6JZ7OQ\")\n",
        "    return df_bottle"
      ],
      "metadata": {
        "id": "2_GA9BjjUevi"
      },
      "id": "2_GA9BjjUevi",
      "execution_count": null,
      "outputs": []
    },
    {
      "cell_type": "code",
      "source": [],
      "metadata": {
        "id": "sGp_fmW6U6k8"
      },
      "id": "sGp_fmW6U6k8",
      "execution_count": null,
      "outputs": []
    }
  ],
  "metadata": {
    "kernelspec": {
      "display_name": "Python 3",
      "language": "python",
      "name": "python3"
    },
    "language_info": {
      "codemirror_mode": {
        "name": "ipython",
        "version": 3
      },
      "file_extension": ".py",
      "mimetype": "text/x-python",
      "name": "python",
      "nbconvert_exporter": "python",
      "pygments_lexer": "ipython3",
      "version": "3.8.5"
    },
    "colab": {
      "provenance": [],
      "include_colab_link": true
    }
  },
  "nbformat": 4,
  "nbformat_minor": 5
}